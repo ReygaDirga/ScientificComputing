{
 "cells": [
  {
   "cell_type": "code",
   "execution_count": 1,
   "metadata": {},
   "outputs": [
    {
     "name": "stdout",
     "output_type": "stream",
     "text": [
      "Requirement already satisfied: numpy in c:\\users\\dwiok\\appdata\\local\\packages\\pythonsoftwarefoundation.python.3.11_qbz5n2kfra8p0\\localcache\\local-packages\\python311\\site-packages (2.1.2)\n",
      "Note: you may need to restart the kernel to use updated packages.\n"
     ]
    },
    {
     "name": "stderr",
     "output_type": "stream",
     "text": [
      "\n",
      "[notice] A new release of pip is available: 24.0 -> 24.3.1\n",
      "[notice] To update, run: C:\\Users\\dwiok\\AppData\\Local\\Microsoft\\WindowsApps\\PythonSoftwareFoundation.Python.3.11_qbz5n2kfra8p0\\python.exe -m pip install --upgrade pip\n"
     ]
    }
   ],
   "source": [
    "%pip install numpy"
   ]
  },
  {
   "cell_type": "code",
   "execution_count": null,
   "metadata": {},
   "outputs": [],
   "source": [
    "#GAUSS SEIDEL\n",
    "\n",
    "import numpy as np\n",
    "# Define Array\n",
    "x_arr = [\n",
    "    [\n",
    "        [4, -1, 2],\n",
    "        [3, 6, -1],\n",
    "        [2, 1, 5],\n",
    "    ],\n",
    "    [\n",
    "        [6, -1, 2, 0],\n",
    "        [3, 9, 1, -4],\n",
    "        [1, 2, 7, -1],\n",
    "        [2, -3, 1, 8],\n",
    "    ],\n",
    "    [\n",
    "        [6, -1, 2, 0, 0],\n",
    "        [1, 10, 3, -2, 0],\n",
    "        [2, -1, 12, 1, -4],\n",
    "        [0, 3, -2, 9, 1],\n",
    "        [1, -2, 1, 3, 8],\n",
    "    ]\n",
    "]\n",
    "\n",
    "y_arr = [\n",
    "    [8, 9, 3],\n",
    "    [12, 18, 14, 4],\n",
    "    [14, 20, 22, 12, 15],\n",
    "]\n",
    "\n"
   ]
  }
 ],
 "metadata": {
  "kernelspec": {
   "display_name": "Python 3",
   "language": "python",
   "name": "python3"
  },
  "language_info": {
   "codemirror_mode": {
    "name": "ipython",
    "version": 3
   },
   "file_extension": ".py",
   "mimetype": "text/x-python",
   "name": "python",
   "nbconvert_exporter": "python",
   "pygments_lexer": "ipython3",
   "version": "3.11.9"
  }
 },
 "nbformat": 4,
 "nbformat_minor": 2
}
