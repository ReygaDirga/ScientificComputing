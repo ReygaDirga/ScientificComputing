{
 "cells": [
  {
   "cell_type": "code",
   "execution_count": null,
   "metadata": {},
   "outputs": [],
   "source": [
    "import numpy as np"
   ]
  },
  {
   "cell_type": "code",
   "execution_count": null,
   "metadata": {},
   "outputs": [],
   "source": [
    "def f(x):\n",
    "    return 8*(x**5) - 10 * (x**4) + (x**3) + 2*(x**2) - 9 * x + 13\n",
    "\n",
    "def g(x):\n",
    "    return 40*(x**4) - 40 * (x**3) + 3 * (x**2) + 4 * x - 9"
   ]
  },
  {
   "cell_type": "code",
   "execution_count": null,
   "metadata": {},
   "outputs": [],
   "source": [
    "iteration = 0\n",
    "def bisection(left, right, tolerance=0.09):\n",
    "    global iteration\n",
    "    iteration += 1\n",
    "    \n",
    "    if np.sign(f(left)) == np.sign(f(right)):\n",
    "        print(\"No root\")\n",
    "        return False    \n",
    "    \n",
    "    x = (left + right) / 2\n",
    "    if np.abs(f(x)) < tolerance:\n",
    "        print(f\"Root found at {iteration}: {x}\")\n",
    "        return True\n",
    "    if np.sign(f(left)) == np.sign(f(x)):\n",
    "        return bisection(x, right)\n",
    "    if np.sign(f(right)) == np.sign(f(x)):\n",
    "        return bisection(left, x)"
   ]
  },
  {
   "cell_type": "code",
   "execution_count": null,
   "metadata": {},
   "outputs": [],
   "source": [
    "bisection(-10, 10)"
   ]
  }
 ],
 "metadata": {
  "kernelspec": {
   "display_name": "Python 3",
   "language": "python",
   "name": "python3"
  },
  "language_info": {
   "codemirror_mode": {
    "name": "ipython",
    "version": 3
   },
   "file_extension": ".py",
   "mimetype": "text/x-python",
   "name": "python",
   "nbconvert_exporter": "python",
   "pygments_lexer": "ipython3",
   "version": "3.11.9"
  }
 },
 "nbformat": 4,
 "nbformat_minor": 2
}
