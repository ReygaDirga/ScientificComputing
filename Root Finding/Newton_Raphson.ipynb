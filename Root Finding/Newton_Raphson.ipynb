{
 "cells": [
  {
   "cell_type": "code",
   "execution_count": 5,
   "metadata": {},
   "outputs": [],
   "source": [
    "import numpy as np"
   ]
  },
  {
   "cell_type": "code",
   "execution_count": 6,
   "metadata": {},
   "outputs": [],
   "source": [
    "def f(x):\n",
    "    return 8*(x**5) - 10 * (x**4) + (x**3) + 2*(x**2) - 9 * x + 13\n",
    "\n",
    "def g(x):\n",
    "    return 40*(x**4) - 40 * (x**3) + 3 * (x**2) + 4 * x - 9"
   ]
  },
  {
   "cell_type": "code",
   "execution_count": 7,
   "metadata": {},
   "outputs": [],
   "source": [
    "def newton_raphson(x, tolerance = 0.09, max_iterations = 50):\n",
    "    for i in range(max_iterations):\n",
    "        x = x - f(x) / g(x)\n",
    "        print(f\"Interation {i+1}: x = {x}\")\n",
    "        if np.abs(f(x)) < tolerance:\n",
    "            return x\n",
    "    return None\n",
    "    "
   ]
  },
  {
   "cell_type": "code",
   "execution_count": 8,
   "metadata": {},
   "outputs": [
    {
     "name": "stdout",
     "output_type": "stream",
     "text": [
      "Interation 1: x = 4.059394603206213\n",
      "Interation 2: x = 3.309726207472683\n",
      "Interation 3: x = 2.7136779793915182\n",
      "Interation 4: x = 2.2413748455764324\n",
      "Interation 5: x = 1.8681343500337189\n",
      "Interation 6: x = 1.5710520173340736\n",
      "Interation 7: x = 1.3209905431493136\n",
      "Interation 8: x = 1.0434622532636735\n",
      "Interation 9: x = -10.90447641710416\n",
      "Interation 10: x = -8.677343307151903\n",
      "Interation 11: x = -6.896696235790187\n",
      "Interation 12: x = -5.473622728769812\n",
      "Interation 13: x = -4.337215836274071\n",
      "Interation 14: x = -3.431169015591493\n",
      "Interation 15: x = -2.711260643742435\n",
      "Interation 16: x = -2.143778628537372\n",
      "Interation 17: x = -1.705118649836952\n",
      "Interation 18: x = -1.3827534216212092\n",
      "Interation 19: x = -1.1756184711815993\n",
      "Interation 20: x = -1.0819735176046303\n",
      "Interation 21: x = -1.0636334151565525\n",
      "Root : -1.0636334151565525\n"
     ]
    }
   ],
   "source": [
    "print(f\"Root : {newton_raphson(5)}\")"
   ]
  }
 ],
 "metadata": {
  "kernelspec": {
   "display_name": "Python 3",
   "language": "python",
   "name": "python3"
  },
  "language_info": {
   "codemirror_mode": {
    "name": "ipython",
    "version": 3
   },
   "file_extension": ".py",
   "mimetype": "text/x-python",
   "name": "python",
   "nbconvert_exporter": "python",
   "pygments_lexer": "ipython3",
   "version": "3.11.9"
  }
 },
 "nbformat": 4,
 "nbformat_minor": 2
}
