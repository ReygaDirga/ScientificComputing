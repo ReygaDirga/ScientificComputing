{
 "cells": [
  {
   "cell_type": "code",
   "execution_count": null,
   "metadata": {},
   "outputs": [],
   "source": [
    "import numpy as np\n",
    "import matplotlib.pyplot as plt\n",
    "from scipy.interpolate import CubicSpline\n",
    "from scipy.interpolate import interp1d\n",
    "\n",
    "# Basic Plotting\n",
    "x = [1, 2, 3, 4, 5, 6, 7, 8]\n",
    "y = [2, 5, 1, 7, 9, 3, 6, 10]\n",
    "\n",
    "x = np.array(x)\n",
    "y = np.array(y)\n",
    "\n",
    "plt.plot(x, y, 'bo')\n",
    "plt.plot(x, 2*x + 5, 'r')\n",
    "plt.show()"
   ]
  },
  {
   "cell_type": "code",
   "execution_count": null,
   "metadata": {},
   "outputs": [],
   "source": [
    "# Last Square Regression\n",
    "x = [1, 2, 3, 4, 5, 6, 7, 8]\n",
    "y = [2, 5, 1, 7, 9, 3, 6, 10]\n",
    "\n",
    "x = np.array(x)\n",
    "y = np.array(y)\n",
    "\n",
    "A = np.vstack([x, np.ones(len(x))]).T\n",
    "y = y[:, np.newaxis]\n",
    "\n",
    "print(A)\n",
    "print(y)\n",
    "\n",
    "alpha = np.dot(np.dot(np.linalg.inv(np.dot(A.T, A)), A.T), y)\n",
    "print(alpha)\n",
    "\n",
    "plt.plot(x, y, 'bo')\n",
    "plt.plot(x, alpha[0]*x + alpha[1], 'r')\n",
    "plt.show()"
   ]
  },
  {
   "cell_type": "code",
   "execution_count": null,
   "metadata": {},
   "outputs": [],
   "source": [
    "# Polynomial Regression\n",
    "x = [1, 2, 3, 4, 5, 6, 7, 8]\n",
    "y = [2, 5, 1, 7, 9, 3, 6, 10]\n",
    "\n",
    "x = np.array(x)\n",
    "y = np.array(y)\n",
    "\n",
    "for i in range (1, 7):\n",
    "    plt.subplot(2, 3, i)\n",
    "    plt.plot(x, y, 'bo')\n",
    "    \n",
    "    y_est = np.polyfit(x, y, i)\n",
    "    print(y_est)\n",
    "    print(np.polyval(y_est, x))\n",
    "    print()\n",
    "    plt.plot(x, np.polyval(y_est, x), 'r')\n",
    "    \n",
    "plt.show()"
   ]
  },
  {
   "cell_type": "code",
   "execution_count": null,
   "metadata": {},
   "outputs": [],
   "source": [
    "#cubic Interpolation\n",
    "x = [1, 2, 3, 4, 5, 6, 7, 8]\n",
    "y = [2, 5, 1, 7, 9, 3, 6, 10]\n",
    "\n",
    "x = np.array(x)\n",
    "y = np.array(y)\n",
    "\n",
    "f = CubicSpline(x, y)\n",
    "x_new = np.linspace(1, 8, 100)\n",
    "y_new = f(x_new)\n",
    "\n",
    "plt.plot(x, y, 'bo')\n",
    "plt.plot(x_new, y_new, 'r')\n",
    "plt.show()"
   ]
  },
  {
   "cell_type": "code",
   "execution_count": null,
   "metadata": {},
   "outputs": [],
   "source": [
    "x = np.array([1, 2, 3, 4, 5, 6, 7, 8])\n",
    "y = np.array([2, 5, 1, 7, 9, 3, 6, 10])\n",
    "f = interp1d(x, y, kind='linear')\n",
    "x_new = np.linspace(1, 8, 100)\n",
    "y_new = f(x_new)\n",
    "\n",
    "plt.plot(x, y, 'bo', label=\"Data Asli\")\n",
    "plt.plot(x_new, y_new, 'r-', label=\"Interpolasi Linear\")\n",
    "plt.legend()\n",
    "plt.show()"
   ]
  },
  {
   "cell_type": "code",
   "execution_count": null,
   "metadata": {},
   "outputs": [],
   "source": [
    "#Newtons Polynomial Method\n",
    "def divide(x,y):\n",
    "    n = len(y)\n",
    "    coef = np.zeros([n,n])\n",
    "    coef[:, 0] = y\n",
    "    \n",
    "    for j in range(1,n):\n",
    "        for i in range(n-j):\n",
    "            coef[i][j] = (coef[i+1][j-1] - coef[i][j-1]) / (x[i+j]-x[i])\n",
    "            \n",
    "    return coef[0]\n",
    "    \n",
    "def newtonPoly(coef, x_data, x):\n",
    "    n = len(x_data) - 1\n",
    "    poly = coef[n]\n",
    "    for k in range(1, n+1):\n",
    "        poly = coef[n-k] + (x - x_data[n-k]) * poly\n",
    "    return poly\n",
    "\n",
    "x = np.array([1, 2, 3, 4, 5, 6, 7, 8])\n",
    "y = np.array([2, 5, 1, 7, 9, 3, 6, 10])\n",
    "\n",
    "coef = divide(x,y)\n",
    "x_new = np.linspace(1,8,100)\n",
    "y_new = newtonPoly(coef, x, x_new)\n",
    "\n",
    "plt.plot(x,y,'bo', label='Data Asli')\n",
    "plt.plot(x_new, y_new, 'r-', label=\"Interpolasi Newton\")\n",
    "plt.legend()\n",
    "plt.show()\n"
   ]
  }
 ],
 "metadata": {
  "kernelspec": {
   "display_name": "Python 3",
   "language": "python",
   "name": "python3"
  },
  "language_info": {
   "codemirror_mode": {
    "name": "ipython",
    "version": 3
   },
   "file_extension": ".py",
   "mimetype": "text/x-python",
   "name": "python",
   "nbconvert_exporter": "python",
   "pygments_lexer": "ipython3",
   "version": "3.11.9"
  }
 },
 "nbformat": 4,
 "nbformat_minor": 2
}
